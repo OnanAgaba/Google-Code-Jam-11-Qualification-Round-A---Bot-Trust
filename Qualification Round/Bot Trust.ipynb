{
 "cells": [
  {
   "cell_type": "code",
   "execution_count": 2,
   "metadata": {},
   "outputs": [
    {
     "name": "stdout",
     "output_type": "stream",
     "text": [
      "Case #1: 6\n",
      "Case #2: 100\n"
     ]
    }
   ],
   "source": [
    "# Define the function with a default parameter as input file name\n",
    "def input(filename='testrobots.txt'): \n",
    "    results = []                     # Creates an empty list to store the results of each test case                    \n",
    "    \n",
    "    # Opens the input file for reading  \n",
    "    with open(filename, 'r') as inputfile:  \n",
    "        try:\n",
    "            tc = int(inputfile.readline().strip()) # Reads the number of test cases (tc), we use this during iterations\n",
    "        except ValueError:                         # Handles the case where the test case count in the first line is not an integer\n",
    "            print(\"Error: The number of test cases is not a valid integer.\")\n",
    "            tc = 0                                 # Set tc to 0 to skip processing test cases\n",
    "\n",
    "        # iterates over the number of test cases \n",
    "        for case in range(tc):\n",
    "            try:\n",
    "                line = inputfile.readline().strip().split(' ')[1:] # Reads the next line and splits it into a list of commands\n",
    "                Otime, Btime, Oposition, Bposition = 0, 0, 1, 1    # Initializes the time counters and positions of robots 'O' and 'B'\n",
    "                 \n",
    "                # Processes each robot movement\n",
    "                for i in range(0, len(line), 2): # Iterates over the commands in pairs (robot identifier and position)\n",
    "                    robot = line[i]              # Gets the robot identifier 'O' or 'B'\n",
    "                    position = int(line[i + 1])  # Gets the target position for the robot\n",
    "\n",
    "                    # Handles robot 'O'\n",
    "                    if robot == 'O':             # Updates the time and position for robot 'O'\n",
    "                        Otime = max(Otime + abs(position - Oposition), Btime) + 1\n",
    "                        Oposition = position\n",
    "\n",
    "                    # Handles robot 'B'\n",
    "                    elif robot == 'B':           # Updates the time and position for robot 'B'\n",
    "                        Btime = max(Btime + abs(position - Bposition), Otime) + 1\n",
    "                        Bposition = position\n",
    "                        \n",
    "                    # Raises an error if an invalid robot identifier is encountered\n",
    "                    else:                        \n",
    "                        raise ValueError(f\"Invalid robot identifier: {robot}\")\n",
    "\n",
    "                # Computes and stores the result for this test case\n",
    "                result = max(Otime, Btime)                     # Computes the result for the test case\n",
    "                results.append(f\"Case #{case + 1}: {result}\")  # Appends the result to the list of results\n",
    "\n",
    "            except (ValueError, IndexError) as e:\n",
    "                results.append(f\"Case #{case + 1}: Error!\")    # Appends an error message to the list of results if an exception occurs\n",
    "\n",
    "    return results     # Returns the list of results after processing all test cases\n",
    "results = input()      # Calls the input function and assigns its return value to the variable 'results'\n",
    "for result in results:  \n",
    "    print(result)      # Prints each result\n"
   ]
  }
 ],
 "metadata": {
  "kernelspec": {
   "display_name": "Python 3",
   "language": "python",
   "name": "python3"
  },
  "language_info": {
   "codemirror_mode": {
    "name": "ipython",
    "version": 3
   },
   "file_extension": ".py",
   "mimetype": "text/x-python",
   "name": "python",
   "nbconvert_exporter": "python",
   "pygments_lexer": "ipython3",
   "version": "3.12.9"
  }
 },
 "nbformat": 4,
 "nbformat_minor": 2
}
